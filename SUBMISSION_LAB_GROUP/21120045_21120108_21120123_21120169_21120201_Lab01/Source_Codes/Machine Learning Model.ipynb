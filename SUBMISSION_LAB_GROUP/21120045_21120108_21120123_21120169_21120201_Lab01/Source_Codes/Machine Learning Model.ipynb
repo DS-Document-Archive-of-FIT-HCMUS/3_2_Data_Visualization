{
 "cells": [
  {
   "cell_type": "code",
   "execution_count": 1,
   "id": "12aad0ce",
   "metadata": {},
   "outputs": [],
   "source": [
    "import pandas as pd\n",
    "from sklearn.model_selection import train_test_split\n",
    "from sklearn.preprocessing import LabelEncoder\n",
    "from sklearn.linear_model import LinearRegression\n",
    "from sklearn.tree import DecisionTreeRegressor\n",
    "from sklearn.metrics import mean_squared_error"
   ]
  },
  {
   "cell_type": "code",
   "execution_count": 2,
   "id": "2e38b77b",
   "metadata": {},
   "outputs": [
    {
     "data": {
      "text/html": [
       "<div>\n",
       "<style scoped>\n",
       "    .dataframe tbody tr th:only-of-type {\n",
       "        vertical-align: middle;\n",
       "    }\n",
       "\n",
       "    .dataframe tbody tr th {\n",
       "        vertical-align: top;\n",
       "    }\n",
       "\n",
       "    .dataframe thead th {\n",
       "        text-align: right;\n",
       "    }\n",
       "</style>\n",
       "<table border=\"1\" class=\"dataframe\">\n",
       "  <thead>\n",
       "    <tr style=\"text-align: right;\">\n",
       "      <th></th>\n",
       "      <th>Age</th>\n",
       "      <th>Gender</th>\n",
       "      <th>Year In School</th>\n",
       "      <th>Major</th>\n",
       "      <th>Monthly Income</th>\n",
       "      <th>Financial Aid</th>\n",
       "      <th>Tuition</th>\n",
       "      <th>Housing</th>\n",
       "      <th>Food</th>\n",
       "      <th>Transportation</th>\n",
       "      <th>Books &amp; Supplies</th>\n",
       "      <th>Entertainment</th>\n",
       "      <th>Personal Care</th>\n",
       "      <th>Technology</th>\n",
       "      <th>Health &amp; Wellness</th>\n",
       "      <th>Miscellaneous</th>\n",
       "      <th>Preferred Payment Method</th>\n",
       "    </tr>\n",
       "  </thead>\n",
       "  <tbody>\n",
       "    <tr>\n",
       "      <th>262</th>\n",
       "      <td>24</td>\n",
       "      <td>Male</td>\n",
       "      <td>Junior</td>\n",
       "      <td>Computer Science</td>\n",
       "      <td>744</td>\n",
       "      <td>666</td>\n",
       "      <td>4930</td>\n",
       "      <td>853</td>\n",
       "      <td>134</td>\n",
       "      <td>115</td>\n",
       "      <td>197</td>\n",
       "      <td>107</td>\n",
       "      <td>73</td>\n",
       "      <td>256</td>\n",
       "      <td>117</td>\n",
       "      <td>34</td>\n",
       "      <td>Mobile Payment App</td>\n",
       "    </tr>\n",
       "    <tr>\n",
       "      <th>999</th>\n",
       "      <td>24</td>\n",
       "      <td>Non-binary</td>\n",
       "      <td>Sophomore</td>\n",
       "      <td>Computer Science</td>\n",
       "      <td>541</td>\n",
       "      <td>640</td>\n",
       "      <td>5965</td>\n",
       "      <td>609</td>\n",
       "      <td>270</td>\n",
       "      <td>191</td>\n",
       "      <td>215</td>\n",
       "      <td>139</td>\n",
       "      <td>43</td>\n",
       "      <td>281</td>\n",
       "      <td>88</td>\n",
       "      <td>145</td>\n",
       "      <td>Cash</td>\n",
       "    </tr>\n",
       "    <tr>\n",
       "      <th>187</th>\n",
       "      <td>23</td>\n",
       "      <td>Male</td>\n",
       "      <td>Sophomore</td>\n",
       "      <td>Economics</td>\n",
       "      <td>1020</td>\n",
       "      <td>17</td>\n",
       "      <td>4645</td>\n",
       "      <td>943</td>\n",
       "      <td>305</td>\n",
       "      <td>156</td>\n",
       "      <td>240</td>\n",
       "      <td>123</td>\n",
       "      <td>53</td>\n",
       "      <td>290</td>\n",
       "      <td>77</td>\n",
       "      <td>63</td>\n",
       "      <td>Cash</td>\n",
       "    </tr>\n",
       "    <tr>\n",
       "      <th>390</th>\n",
       "      <td>22</td>\n",
       "      <td>Male</td>\n",
       "      <td>Senior</td>\n",
       "      <td>Economics</td>\n",
       "      <td>716</td>\n",
       "      <td>157</td>\n",
       "      <td>4056</td>\n",
       "      <td>789</td>\n",
       "      <td>358</td>\n",
       "      <td>186</td>\n",
       "      <td>216</td>\n",
       "      <td>78</td>\n",
       "      <td>74</td>\n",
       "      <td>175</td>\n",
       "      <td>169</td>\n",
       "      <td>109</td>\n",
       "      <td>Cash</td>\n",
       "    </tr>\n",
       "    <tr>\n",
       "      <th>664</th>\n",
       "      <td>22</td>\n",
       "      <td>Non-binary</td>\n",
       "      <td>Sophomore</td>\n",
       "      <td>Computer Science</td>\n",
       "      <td>1092</td>\n",
       "      <td>574</td>\n",
       "      <td>3997</td>\n",
       "      <td>731</td>\n",
       "      <td>187</td>\n",
       "      <td>93</td>\n",
       "      <td>151</td>\n",
       "      <td>63</td>\n",
       "      <td>55</td>\n",
       "      <td>96</td>\n",
       "      <td>169</td>\n",
       "      <td>118</td>\n",
       "      <td>Credit/Debit Card</td>\n",
       "    </tr>\n",
       "  </tbody>\n",
       "</table>\n",
       "</div>"
      ],
      "text/plain": [
       "     Age      Gender Year In School             Major  Monthly Income  \\\n",
       "262   24        Male         Junior  Computer Science             744   \n",
       "999   24  Non-binary      Sophomore  Computer Science             541   \n",
       "187   23        Male      Sophomore         Economics            1020   \n",
       "390   22        Male         Senior         Economics             716   \n",
       "664   22  Non-binary      Sophomore  Computer Science            1092   \n",
       "\n",
       "     Financial Aid  Tuition  Housing  Food  Transportation  Books & Supplies  \\\n",
       "262            666     4930      853   134             115               197   \n",
       "999            640     5965      609   270             191               215   \n",
       "187             17     4645      943   305             156               240   \n",
       "390            157     4056      789   358             186               216   \n",
       "664            574     3997      731   187              93               151   \n",
       "\n",
       "     Entertainment  Personal Care  Technology  Health & Wellness  \\\n",
       "262            107             73         256                117   \n",
       "999            139             43         281                 88   \n",
       "187            123             53         290                 77   \n",
       "390             78             74         175                169   \n",
       "664             63             55          96                169   \n",
       "\n",
       "     Miscellaneous Preferred Payment Method  \n",
       "262             34       Mobile Payment App  \n",
       "999            145                     Cash  \n",
       "187             63                     Cash  \n",
       "390            109                     Cash  \n",
       "664            118        Credit/Debit Card  "
      ]
     },
     "execution_count": 2,
     "metadata": {},
     "output_type": "execute_result"
    }
   ],
   "source": [
    "df = pd.read_csv('Processed.csv')\n",
    "\n",
    "df.sample(n=5)"
   ]
  },
  {
   "cell_type": "markdown",
   "id": "2d1b6829",
   "metadata": {},
   "source": [
    "## Áp dụng các mô hình học máy cơ bản\n",
    "\n",
    "**Mục tiêu: so sánh 2 mô hình `Linear Regression` và `Decision Tree` thông qua việc dự đoán ngành học của sinh viên thông qua các chi tiêu của họ với các danh mục**"
   ]
  },
  {
   "cell_type": "markdown",
   "id": "da0ca998",
   "metadata": {},
   "source": [
    "### Chuẩn bị dữ liệu"
   ]
  },
  {
   "cell_type": "code",
   "execution_count": 3,
   "id": "3ef37553",
   "metadata": {},
   "outputs": [
    {
     "name": "stderr",
     "output_type": "stream",
     "text": [
      "C:\\Users\\PC\\AppData\\Local\\anaconda3\\envs\\min_ds-env\\lib\\site-packages\\sklearn\\preprocessing\\_label.py:114: DataConversionWarning: A column-vector y was passed when a 1d array was expected. Please change the shape of y to (n_samples, ), for example using ravel().\n",
      "  y = column_or_1d(y, warn=True)\n"
     ]
    }
   ],
   "source": [
    "X = df[['Financial Aid', 'Housing', 'Food', 'Transportation', 'Books & Supplies',\n",
    "                 'Entertainment', 'Personal Care', 'Technology', 'Health & Wellness', 'Miscellaneous']]\n",
    "y = df[['Major']]\n",
    "\n",
    "encoder = LabelEncoder()\n",
    "y = encoder.fit_transform(y)\n",
    "\n",
    "X_train, X_test, y_train, y_test = train_test_split(X, y, test_size=0.2, random_state=42)"
   ]
  },
  {
   "cell_type": "markdown",
   "id": "68ee14cd",
   "metadata": {},
   "source": [
    "### Huấn luyện mô hình và dự đoán"
   ]
  },
  {
   "cell_type": "code",
   "execution_count": 4,
   "id": "f00f57d1",
   "metadata": {},
   "outputs": [],
   "source": [
    "# Linear Regression Model\n",
    "model_LR = LinearRegression()\n",
    "model_LR.fit(X_train, y_train)\n",
    "\n",
    "y_pred_LR = model_LR.predict(X_test)\n",
    "\n",
    "# Decision Tree Model\n",
    "model_DT = DecisionTreeRegressor()\n",
    "model_DT.fit(X_train, y_train)\n",
    "\n",
    "y_pred_DT = model_DT.predict(X_test)"
   ]
  },
  {
   "cell_type": "markdown",
   "id": "1e91386c",
   "metadata": {},
   "source": [
    "### Đánh giá hiệu suất"
   ]
  },
  {
   "cell_type": "code",
   "execution_count": 8,
   "id": "85aac829",
   "metadata": {},
   "outputs": [
    {
     "name": "stdout",
     "output_type": "stream",
     "text": [
      "Mean Squared Error - Linear Regression: 1.853483865069211\n",
      "Mean Squared Error - Decision Tree: 3.795\n"
     ]
    }
   ],
   "source": [
    "mse_LR = mean_squared_error(y_test, y_pred_LR)\n",
    "\n",
    "mse_DT = mean_squared_error(y_test, y_pred_DT)\n",
    "\n",
    "print(\"Mean Squared Error - Linear Regression:\", mse_LR)\n",
    "\n",
    "print(\"Mean Squared Error - Decision Tree:\", mse_DT)"
   ]
  },
  {
   "cell_type": "markdown",
   "id": "8dd0017c",
   "metadata": {},
   "source": [
    "**Dựa vào metric Mean Squared Error, mô hình `Decision Tree` có `MSE` cao hơn `Linear Regression` nên ta kết luận với dữ liệu này, mô hình `Linear Regression` có hiệu suất cao hơn `Decision Tree`**"
   ]
  },
  {
   "cell_type": "code",
   "execution_count": null,
   "id": "9a1d1ac3",
   "metadata": {},
   "outputs": [],
   "source": []
  }
 ],
 "metadata": {
  "kernelspec": {
   "display_name": "Python 3 (ipykernel)",
   "language": "python",
   "name": "python3"
  },
  "language_info": {
   "codemirror_mode": {
    "name": "ipython",
    "version": 3
   },
   "file_extension": ".py",
   "mimetype": "text/x-python",
   "name": "python",
   "nbconvert_exporter": "python",
   "pygments_lexer": "ipython3",
   "version": "3.10.9"
  }
 },
 "nbformat": 4,
 "nbformat_minor": 5
}
