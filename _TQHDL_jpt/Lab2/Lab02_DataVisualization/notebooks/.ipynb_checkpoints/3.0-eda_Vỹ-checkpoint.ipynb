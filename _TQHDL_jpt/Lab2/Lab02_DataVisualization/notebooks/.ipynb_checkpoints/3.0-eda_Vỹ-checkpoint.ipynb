{
 "cells": [
  {
   "cell_type": "markdown",
   "metadata": {
    "id": "5N-4gqK5xG2T"
   },
   "source": [
    "<div style=\"text-align: center; background-color: #0A6EBD; font-family: 'Trebuchet MS', Arial, sans-serif; color: white; padding: 20px; font-size: 40px; font-weight: bold; border-radius: 0 0 0 0; box-shadow: 0px 6px 8px rgba(0, 0, 0, 0.2);\">\n",
    "  🏫 FIT@HCMUS, VNU-HCM 🏫\n",
    "</div>\n",
    "<div style=\"text-align: center; background-color: #0A6EBD; font-family: 'Trebuchet MS', Arial, sans-serif; color: white; padding: 20px; font-size: 40px; font-weight: bold; border-radius: 0 0 0 0; box-shadow: 0px 6px 8px rgba(0, 0, 0, 0.2);\">\n",
    "  Lab 02 - Data Visualization\n",
    "    <div style=\"text-align: center; background-color: #0A60BD; font-family: 'Trebuchet MS', Arial, sans-serif; color: white; padding: 20px; font-size: 40px; font-weight: bold; border-radius: 0 0 0 0; box-shadow: 0px 6px 8px rgba(0, 0, 0, 0.2);\">\n",
    "    Working with Time-series data\n",
    "</div>"
   ]
  },
  {
   "cell_type": "markdown",
   "metadata": {
    "id": "FaOzvRrUxG2W"
   },
   "source": [
    "<div style=\"text-align: center; background-color: #5A96E3; font-family: 'Trebuchet MS', Arial, sans-serif; color: white; padding: 20px; font-size: 40px; font-weight: bold; border-radius: 0 0 0 0; box-shadow: 0px 6px 8px rgba(0, 0, 0, 0.2);\">\n",
    "  Stage 3 - Exploratory Data Analysis 📌\n",
    "</div>"
   ]
  },
  {
   "cell_type": "code",
   "execution_count": 1,
   "metadata": {
    "colab": {
     "base_uri": "https://localhost:8080/"
    },
    "id": "O1uV3eLMxG2X",
    "outputId": "1bd7aa06-0bf8-464f-c706-a6cc48ce9cf3"
   },
   "outputs": [
    {
     "name": "stdout",
     "output_type": "stream",
     "text": [
      "Mounted at /content/drive\n"
     ]
    }
   ],
   "source": [
    "import pandas as pd\n",
    "import numpy as np\n",
    "import matplotlib.pyplot as plt\n",
    "import seaborn as sns\n",
    "\n",
    "from google.colab import drive\n",
    "drive.mount('/content/drive')"
   ]
  },
  {
   "cell_type": "markdown",
   "metadata": {
    "id": "Ul0GLI4OyYMY"
   },
   "source": [
    "# Read data"
   ]
  },
  {
   "cell_type": "code",
   "execution_count": 2,
   "metadata": {
    "colab": {
     "base_uri": "https://localhost:8080/",
     "height": 293
    },
    "id": "4SBGMEV7yWGp",
    "outputId": "85284e68-ff18-4faa-9f75-7273d1cdf519"
   },
   "outputs": [
    {
     "data": {
      "application/vnd.google.colaboratory.intrinsic+json": {
       "type": "dataframe",
       "variable_name": "df"
      },
      "text/html": [
       "\n",
       "  <div id=\"df-65301745-b094-4a82-b989-a7bc1351f572\" class=\"colab-df-container\">\n",
       "    <div>\n",
       "<style scoped>\n",
       "    .dataframe tbody tr th:only-of-type {\n",
       "        vertical-align: middle;\n",
       "    }\n",
       "\n",
       "    .dataframe tbody tr th {\n",
       "        vertical-align: top;\n",
       "    }\n",
       "\n",
       "    .dataframe thead th {\n",
       "        text-align: right;\n",
       "    }\n",
       "</style>\n",
       "<table border=\"1\" class=\"dataframe\">\n",
       "  <thead>\n",
       "    <tr style=\"text-align: right;\">\n",
       "      <th></th>\n",
       "      <th>Sum_PASSENGERS</th>\n",
       "      <th>AIRLINE_ID</th>\n",
       "      <th>CARRIER_NAME</th>\n",
       "      <th>ORIGIN</th>\n",
       "      <th>ORIGIN_CITY_NAME</th>\n",
       "      <th>ORIGIN_STATE_NM</th>\n",
       "      <th>ORIGIN_COUNTRY_NAME</th>\n",
       "      <th>DEST</th>\n",
       "      <th>DEST_CITY_NAME</th>\n",
       "      <th>DEST_STATE_NM</th>\n",
       "      <th>DEST_COUNTRY_NAME</th>\n",
       "      <th>YEAR</th>\n",
       "      <th>MONTH</th>\n",
       "    </tr>\n",
       "  </thead>\n",
       "  <tbody>\n",
       "    <tr>\n",
       "      <th>0</th>\n",
       "      <td>130</td>\n",
       "      <td>19385.0</td>\n",
       "      <td>Reeve Aleutian Airways Inc.</td>\n",
       "      <td>ADK</td>\n",
       "      <td>Adak Island, AK</td>\n",
       "      <td>Alaska</td>\n",
       "      <td>United States</td>\n",
       "      <td>ANC</td>\n",
       "      <td>Anchorage, AK</td>\n",
       "      <td>Alaska</td>\n",
       "      <td>United States</td>\n",
       "      <td>2000</td>\n",
       "      <td>1</td>\n",
       "    </tr>\n",
       "    <tr>\n",
       "      <th>1</th>\n",
       "      <td>196</td>\n",
       "      <td>19385.0</td>\n",
       "      <td>Reeve Aleutian Airways Inc.</td>\n",
       "      <td>ADK</td>\n",
       "      <td>Adak Island, AK</td>\n",
       "      <td>Alaska</td>\n",
       "      <td>United States</td>\n",
       "      <td>ANC</td>\n",
       "      <td>Anchorage, AK</td>\n",
       "      <td>Alaska</td>\n",
       "      <td>United States</td>\n",
       "      <td>2000</td>\n",
       "      <td>2</td>\n",
       "    </tr>\n",
       "    <tr>\n",
       "      <th>2</th>\n",
       "      <td>198</td>\n",
       "      <td>19385.0</td>\n",
       "      <td>Reeve Aleutian Airways Inc.</td>\n",
       "      <td>ADK</td>\n",
       "      <td>Adak Island, AK</td>\n",
       "      <td>Alaska</td>\n",
       "      <td>United States</td>\n",
       "      <td>ANC</td>\n",
       "      <td>Anchorage, AK</td>\n",
       "      <td>Alaska</td>\n",
       "      <td>United States</td>\n",
       "      <td>2000</td>\n",
       "      <td>3</td>\n",
       "    </tr>\n",
       "    <tr>\n",
       "      <th>3</th>\n",
       "      <td>155</td>\n",
       "      <td>19385.0</td>\n",
       "      <td>Reeve Aleutian Airways Inc.</td>\n",
       "      <td>ADK</td>\n",
       "      <td>Adak Island, AK</td>\n",
       "      <td>Alaska</td>\n",
       "      <td>United States</td>\n",
       "      <td>ANC</td>\n",
       "      <td>Anchorage, AK</td>\n",
       "      <td>Alaska</td>\n",
       "      <td>United States</td>\n",
       "      <td>2000</td>\n",
       "      <td>4</td>\n",
       "    </tr>\n",
       "    <tr>\n",
       "      <th>4</th>\n",
       "      <td>167</td>\n",
       "      <td>19385.0</td>\n",
       "      <td>Reeve Aleutian Airways Inc.</td>\n",
       "      <td>ADK</td>\n",
       "      <td>Adak Island, AK</td>\n",
       "      <td>Alaska</td>\n",
       "      <td>United States</td>\n",
       "      <td>ANC</td>\n",
       "      <td>Anchorage, AK</td>\n",
       "      <td>Alaska</td>\n",
       "      <td>United States</td>\n",
       "      <td>2000</td>\n",
       "      <td>5</td>\n",
       "    </tr>\n",
       "  </tbody>\n",
       "</table>\n",
       "</div>\n",
       "    <div class=\"colab-df-buttons\">\n",
       "\n",
       "  <div class=\"colab-df-container\">\n",
       "    <button class=\"colab-df-convert\" onclick=\"convertToInteractive('df-65301745-b094-4a82-b989-a7bc1351f572')\"\n",
       "            title=\"Convert this dataframe to an interactive table.\"\n",
       "            style=\"display:none;\">\n",
       "\n",
       "  <svg xmlns=\"http://www.w3.org/2000/svg\" height=\"24px\" viewBox=\"0 -960 960 960\">\n",
       "    <path d=\"M120-120v-720h720v720H120Zm60-500h600v-160H180v160Zm220 220h160v-160H400v160Zm0 220h160v-160H400v160ZM180-400h160v-160H180v160Zm440 0h160v-160H620v160ZM180-180h160v-160H180v160Zm440 0h160v-160H620v160Z\"/>\n",
       "  </svg>\n",
       "    </button>\n",
       "\n",
       "  <style>\n",
       "    .colab-df-container {\n",
       "      display:flex;\n",
       "      gap: 12px;\n",
       "    }\n",
       "\n",
       "    .colab-df-convert {\n",
       "      background-color: #E8F0FE;\n",
       "      border: none;\n",
       "      border-radius: 50%;\n",
       "      cursor: pointer;\n",
       "      display: none;\n",
       "      fill: #1967D2;\n",
       "      height: 32px;\n",
       "      padding: 0 0 0 0;\n",
       "      width: 32px;\n",
       "    }\n",
       "\n",
       "    .colab-df-convert:hover {\n",
       "      background-color: #E2EBFA;\n",
       "      box-shadow: 0px 1px 2px rgba(60, 64, 67, 0.3), 0px 1px 3px 1px rgba(60, 64, 67, 0.15);\n",
       "      fill: #174EA6;\n",
       "    }\n",
       "\n",
       "    .colab-df-buttons div {\n",
       "      margin-bottom: 4px;\n",
       "    }\n",
       "\n",
       "    [theme=dark] .colab-df-convert {\n",
       "      background-color: #3B4455;\n",
       "      fill: #D2E3FC;\n",
       "    }\n",
       "\n",
       "    [theme=dark] .colab-df-convert:hover {\n",
       "      background-color: #434B5C;\n",
       "      box-shadow: 0px 1px 3px 1px rgba(0, 0, 0, 0.15);\n",
       "      filter: drop-shadow(0px 1px 2px rgba(0, 0, 0, 0.3));\n",
       "      fill: #FFFFFF;\n",
       "    }\n",
       "  </style>\n",
       "\n",
       "    <script>\n",
       "      const buttonEl =\n",
       "        document.querySelector('#df-65301745-b094-4a82-b989-a7bc1351f572 button.colab-df-convert');\n",
       "      buttonEl.style.display =\n",
       "        google.colab.kernel.accessAllowed ? 'block' : 'none';\n",
       "\n",
       "      async function convertToInteractive(key) {\n",
       "        const element = document.querySelector('#df-65301745-b094-4a82-b989-a7bc1351f572');\n",
       "        const dataTable =\n",
       "          await google.colab.kernel.invokeFunction('convertToInteractive',\n",
       "                                                    [key], {});\n",
       "        if (!dataTable) return;\n",
       "\n",
       "        const docLinkHtml = 'Like what you see? Visit the ' +\n",
       "          '<a target=\"_blank\" href=https://colab.research.google.com/notebooks/data_table.ipynb>data table notebook</a>'\n",
       "          + ' to learn more about interactive tables.';\n",
       "        element.innerHTML = '';\n",
       "        dataTable['output_type'] = 'display_data';\n",
       "        await google.colab.output.renderOutput(dataTable, element);\n",
       "        const docLink = document.createElement('div');\n",
       "        docLink.innerHTML = docLinkHtml;\n",
       "        element.appendChild(docLink);\n",
       "      }\n",
       "    </script>\n",
       "  </div>\n",
       "\n",
       "\n",
       "<div id=\"df-a9c883aa-e533-4986-91d0-82255abf1ea0\">\n",
       "  <button class=\"colab-df-quickchart\" onclick=\"quickchart('df-a9c883aa-e533-4986-91d0-82255abf1ea0')\"\n",
       "            title=\"Suggest charts\"\n",
       "            style=\"display:none;\">\n",
       "\n",
       "<svg xmlns=\"http://www.w3.org/2000/svg\" height=\"24px\"viewBox=\"0 0 24 24\"\n",
       "     width=\"24px\">\n",
       "    <g>\n",
       "        <path d=\"M19 3H5c-1.1 0-2 .9-2 2v14c0 1.1.9 2 2 2h14c1.1 0 2-.9 2-2V5c0-1.1-.9-2-2-2zM9 17H7v-7h2v7zm4 0h-2V7h2v10zm4 0h-2v-4h2v4z\"/>\n",
       "    </g>\n",
       "</svg>\n",
       "  </button>\n",
       "\n",
       "<style>\n",
       "  .colab-df-quickchart {\n",
       "      --bg-color: #E8F0FE;\n",
       "      --fill-color: #1967D2;\n",
       "      --hover-bg-color: #E2EBFA;\n",
       "      --hover-fill-color: #174EA6;\n",
       "      --disabled-fill-color: #AAA;\n",
       "      --disabled-bg-color: #DDD;\n",
       "  }\n",
       "\n",
       "  [theme=dark] .colab-df-quickchart {\n",
       "      --bg-color: #3B4455;\n",
       "      --fill-color: #D2E3FC;\n",
       "      --hover-bg-color: #434B5C;\n",
       "      --hover-fill-color: #FFFFFF;\n",
       "      --disabled-bg-color: #3B4455;\n",
       "      --disabled-fill-color: #666;\n",
       "  }\n",
       "\n",
       "  .colab-df-quickchart {\n",
       "    background-color: var(--bg-color);\n",
       "    border: none;\n",
       "    border-radius: 50%;\n",
       "    cursor: pointer;\n",
       "    display: none;\n",
       "    fill: var(--fill-color);\n",
       "    height: 32px;\n",
       "    padding: 0;\n",
       "    width: 32px;\n",
       "  }\n",
       "\n",
       "  .colab-df-quickchart:hover {\n",
       "    background-color: var(--hover-bg-color);\n",
       "    box-shadow: 0 1px 2px rgba(60, 64, 67, 0.3), 0 1px 3px 1px rgba(60, 64, 67, 0.15);\n",
       "    fill: var(--button-hover-fill-color);\n",
       "  }\n",
       "\n",
       "  .colab-df-quickchart-complete:disabled,\n",
       "  .colab-df-quickchart-complete:disabled:hover {\n",
       "    background-color: var(--disabled-bg-color);\n",
       "    fill: var(--disabled-fill-color);\n",
       "    box-shadow: none;\n",
       "  }\n",
       "\n",
       "  .colab-df-spinner {\n",
       "    border: 2px solid var(--fill-color);\n",
       "    border-color: transparent;\n",
       "    border-bottom-color: var(--fill-color);\n",
       "    animation:\n",
       "      spin 1s steps(1) infinite;\n",
       "  }\n",
       "\n",
       "  @keyframes spin {\n",
       "    0% {\n",
       "      border-color: transparent;\n",
       "      border-bottom-color: var(--fill-color);\n",
       "      border-left-color: var(--fill-color);\n",
       "    }\n",
       "    20% {\n",
       "      border-color: transparent;\n",
       "      border-left-color: var(--fill-color);\n",
       "      border-top-color: var(--fill-color);\n",
       "    }\n",
       "    30% {\n",
       "      border-color: transparent;\n",
       "      border-left-color: var(--fill-color);\n",
       "      border-top-color: var(--fill-color);\n",
       "      border-right-color: var(--fill-color);\n",
       "    }\n",
       "    40% {\n",
       "      border-color: transparent;\n",
       "      border-right-color: var(--fill-color);\n",
       "      border-top-color: var(--fill-color);\n",
       "    }\n",
       "    60% {\n",
       "      border-color: transparent;\n",
       "      border-right-color: var(--fill-color);\n",
       "    }\n",
       "    80% {\n",
       "      border-color: transparent;\n",
       "      border-right-color: var(--fill-color);\n",
       "      border-bottom-color: var(--fill-color);\n",
       "    }\n",
       "    90% {\n",
       "      border-color: transparent;\n",
       "      border-bottom-color: var(--fill-color);\n",
       "    }\n",
       "  }\n",
       "</style>\n",
       "\n",
       "  <script>\n",
       "    async function quickchart(key) {\n",
       "      const quickchartButtonEl =\n",
       "        document.querySelector('#' + key + ' button');\n",
       "      quickchartButtonEl.disabled = true;  // To prevent multiple clicks.\n",
       "      quickchartButtonEl.classList.add('colab-df-spinner');\n",
       "      try {\n",
       "        const charts = await google.colab.kernel.invokeFunction(\n",
       "            'suggestCharts', [key], {});\n",
       "      } catch (error) {\n",
       "        console.error('Error during call to suggestCharts:', error);\n",
       "      }\n",
       "      quickchartButtonEl.classList.remove('colab-df-spinner');\n",
       "      quickchartButtonEl.classList.add('colab-df-quickchart-complete');\n",
       "    }\n",
       "    (() => {\n",
       "      let quickchartButtonEl =\n",
       "        document.querySelector('#df-a9c883aa-e533-4986-91d0-82255abf1ea0 button');\n",
       "      quickchartButtonEl.style.display =\n",
       "        google.colab.kernel.accessAllowed ? 'block' : 'none';\n",
       "    })();\n",
       "  </script>\n",
       "</div>\n",
       "\n",
       "    </div>\n",
       "  </div>\n"
      ],
      "text/plain": [
       "   Sum_PASSENGERS  AIRLINE_ID                 CARRIER_NAME ORIGIN  \\\n",
       "0             130     19385.0  Reeve Aleutian Airways Inc.    ADK   \n",
       "1             196     19385.0  Reeve Aleutian Airways Inc.    ADK   \n",
       "2             198     19385.0  Reeve Aleutian Airways Inc.    ADK   \n",
       "3             155     19385.0  Reeve Aleutian Airways Inc.    ADK   \n",
       "4             167     19385.0  Reeve Aleutian Airways Inc.    ADK   \n",
       "\n",
       "  ORIGIN_CITY_NAME ORIGIN_STATE_NM ORIGIN_COUNTRY_NAME DEST DEST_CITY_NAME  \\\n",
       "0  Adak Island, AK          Alaska       United States  ANC  Anchorage, AK   \n",
       "1  Adak Island, AK          Alaska       United States  ANC  Anchorage, AK   \n",
       "2  Adak Island, AK          Alaska       United States  ANC  Anchorage, AK   \n",
       "3  Adak Island, AK          Alaska       United States  ANC  Anchorage, AK   \n",
       "4  Adak Island, AK          Alaska       United States  ANC  Anchorage, AK   \n",
       "\n",
       "  DEST_STATE_NM DEST_COUNTRY_NAME  YEAR  MONTH  \n",
       "0        Alaska     United States  2000      1  \n",
       "1        Alaska     United States  2000      2  \n",
       "2        Alaska     United States  2000      3  \n",
       "3        Alaska     United States  2000      4  \n",
       "4        Alaska     United States  2000      5  "
      ]
     },
     "execution_count": 2,
     "metadata": {},
     "output_type": "execute_result"
    }
   ],
   "source": [
    "file_path = '/content/drive/My Drive/Data/Processed.csv'\n",
    "df = pd.read_csv(file_path)\n",
    "df.head()"
   ]
  },
  {
   "cell_type": "markdown",
   "metadata": {
    "id": "Q-PzjGTtzGKp"
   },
   "source": [
    "## Câu hỏi 1: So sánh số lượng hành khách trong các chuyến bay hằng tháng trước và sau khi xảy ra đại dịch Covid-19.\n"
   ]
  },
  {
   "cell_type": "markdown",
   "metadata": {
    "id": "fdHR3vxmAtgG"
   },
   "source": [
    "## 1. Mục đích\n",
    "\n",
    "- Để hiểu được ảnh hưởng của đại dịch Covid-19 đối với ngành Hàng Không của Mỹ.\n",
    "\n",
    "- **Để làm được điều này**, chúng ta sẽ xem xét số hành khách hằng tháng giữa 2 năm 2019 và 2020."
   ]
  },
  {
   "cell_type": "markdown",
   "metadata": {
    "id": "UyUC6A4jZSEM"
   },
   "source": [
    "## 2. Phân tích"
   ]
  },
  {
   "cell_type": "code",
   "execution_count": 3,
   "metadata": {
    "id": "2epItYBjy5zW"
   },
   "outputs": [],
   "source": [
    "before_pandemic_df = df[df['YEAR'] == 2019]\n",
    "after_pandemic_df = df[df['YEAR'] == 2020]"
   ]
  },
  {
   "cell_type": "code",
   "execution_count": 4,
   "metadata": {
    "id": "5hltTqE1Bqc_"
   },
   "outputs": [],
   "source": [
    "acronym_months = {1 : \"Jan\", 2 : \"Feb\", 3 : \"Mar\", 4 : \"Apr\", 5 : \"May\", 6 : \"Jun\",\n",
    "                  7 : \"Jul\", 8 : \"Aug\", 9 : \"Sep\", 10 : \"Oct\", 11 : \"Nov\", 12 : \"Dec\"}\n",
    "before_pandemic_df.loc[:, 'MONTH'] = before_pandemic_df['MONTH'].apply(lambda x : acronym_months[x])\n",
    "after_pandemic_df.loc[:, 'MONTH'] = after_pandemic_df['MONTH'].apply(lambda x : acronym_months[x])"
   ]
  },
  {
   "cell_type": "code",
   "execution_count": 5,
   "metadata": {
    "id": "6l0QkeIzDdUJ"
   },
   "outputs": [],
   "source": [
    "before_sum_passengers = before_pandemic_df.groupby('MONTH')['Sum_PASSENGERS'].sum()\n",
    "after_sum_passengers = after_pandemic_df.groupby('MONTH')['Sum_PASSENGERS'].sum()\n",
    "\n",
    "# sort months\n",
    "month_order = {\n",
    "    'Jan': 1,\n",
    "    'Feb': 2,\n",
    "    'Mar': 3,\n",
    "    'Apr': 4,\n",
    "    'May': 5,\n",
    "    'Jun': 6,\n",
    "    'Jul': 7,\n",
    "    'Aug': 8,\n",
    "    'Sep': 9,\n",
    "    'Oct': 10,\n",
    "    'Nov': 11,\n",
    "    'Dec': 12\n",
    "}\n",
    "\n",
    "sorting_key = before_sum_passengers.index.map(month_order)\n",
    "sorted_before_sum_passengers = before_sum_passengers.iloc[sorting_key.argsort()]\n",
    "\n",
    "sorting_key = after_sum_passengers.index.map(month_order)\n",
    "sorted_after_sum_passengers = after_sum_passengers.iloc[sorting_key.argsort()]"
   ]
  },
  {
   "cell_type": "markdown",
   "metadata": {
    "id": "r3jmpngMZNOs"
   },
   "source": [
    "## 3. Trực quan hóa\n",
    "\n",
    "Lựa chọn biểu đồ cột đôi có thể thể hiện mức độ chênh lệch giữa các tháng trong 2 năm 2019 và 2020. Ngoài ra, còn có thể so sánh số lượng hành khách giữa các tháng trong năm."
   ]
  },
  {
   "cell_type": "code",
   "execution_count": 6,
   "metadata": {
    "colab": {
     "base_uri": "https://localhost:8080/",
     "height": 628
    },
    "id": "CoErES21GVHG",
    "outputId": "288af7a6-7e30-45f0-f461-ebbecf6330e2"
   },
   "outputs": [
    {
     "data": {
      "image/png": "[encoded data removed]",
      "text/plain": [
       "<Figure size 2000x800 with 1 Axes>"
      ]
     },
     "metadata": {},
     "output_type": "display_data"
    }
   ],
   "source": [
    "fig, ax = plt.subplots(figsize = (20, 8))\n",
    "\n",
    "before_positions = range(len(sorted_before_sum_passengers.index))\n",
    "after_positions = range(len(sorted_after_sum_passengers.index))\n",
    "width = 0.4\n",
    "ax.bar([p - width/2 for p in before_positions], height = sorted_before_sum_passengers, width = width, label = '2019')\n",
    "ax.bar([p + width/2 for p in after_positions], height = sorted_after_sum_passengers, width = width, label = '2020')\n",
    "\n",
    "ax.set_xlabel('Month')\n",
    "ax.set_ylabel('Number of passengers')\n",
    "ax.set_title('Monthly US Passengers in 2019 and 2020')\n",
    "ax.set_xticks(before_positions)\n",
    "ax.set_xticklabels(month_order.keys())\n",
    "\n",
    "plt.legend()\n",
    "plt.show()"
   ]
  },
  {
   "cell_type": "markdown",
   "metadata": {
    "id": "zxXOGurYKn3W"
   },
   "source": [
    "## 4. Quan sát:\n",
    "\n",
    "Từ biểu đồ trên, ta có thể thấy:\n",
    "- Số chuyến bay hằng tháng năm 2019 khá ổn định, các chuyến bay đến tháng 2 năm 2020 cũng ổn định như vậy mặc dù thời điểm đó, dịch đã chớm bùng phát. Điều này có thể giải thích bằng việc, thời điểm công bố chính thức ở Mỹ là ngày 21/01/2020, nhưng các khách du lịch, những người hồi hương vẫn được đặt chuyến cuối cùng và thực hiện chuyến bay.\n",
    "- Số chuyển bay từ tháng 3, đặc biệt là tháng 4 năm 2020, đã ít đi đáng kể vì thời điểm đó, truyền thông đã thông báo về đại dịch Covid-19 và thế giới bắt đầu thực hiện cách ly. Điều này có thể thấy từ biểu đồ trên.\n",
    "- Với số hành khách tăng dần từ tháng 4 đến tháng 10 năm 2020, điều này khá kỳ lạ đối với việc đại dịch đã bùng phát. Nhưng có thể giải thích bằng việc, những người bị cách ly cố gắng hồi hương, nhưng một số không tuân thủ quy định cách ly và mang mầm bệnh đi khắp nơi (tương tự như sự việc bùng phát đại dịch ở Việt Nam). Hậu quả có thể thấy ở số hành khách trong tháng 11 và 12 năm 2020 (không có)."
   ]
  },
  {
   "cell_type": "markdown",
   "metadata": {
    "id": "BP4QKlkiNgEu"
   },
   "source": [
    "# Câu hỏi 2: Các hãng hàng không nào thực hiện chuyển chở hành khách nhiều trong mùa dịch?"
   ]
  },
  {
   "cell_type": "markdown",
   "metadata": {
    "id": "dApXTcNvYx5O"
   },
   "source": [
    "## 1. Mục đích\n",
    "\n",
    "- Biết được những hãng hàng không uy tín, đảm bảo chất lượng chuyến bay. Từ đó, khách hàng có thể chọn hãng yêu thích cho mình.\n",
    "- **Để làm điều này**, ta xét năm 2020, năm xảy ra dịch bệnh.\n"
   ]
  },
  {
   "cell_type": "markdown",
   "metadata": {
    "id": "cDz3p013ZGRd"
   },
   "source": [
    "## 2. Phân tích"
   ]
  },
  {
   "cell_type": "code",
   "execution_count": 43,
   "metadata": {
    "id": "keDGdwsPNOWJ"
   },
   "outputs": [],
   "source": [
    "df_2020 = df[df['YEAR'] == 2020]\n",
    "\n",
    "n_passengers_on_airlines = df_2020.groupby('CARRIER_NAME')['Sum_PASSENGERS'].sum()\n",
    "\n",
    "# Sort the Series and find the top 10 largest values\n",
    "sorted_series = n_passengers_on_airlines.sort_values(ascending=False)\n",
    "top_10 = sorted_series[:10]\n",
    "other_sum = sorted_series[10:].sum()\n",
    "\n",
    "# Create a new Series including \"Other\" category\n",
    "final_series = pd.concat([top_10, pd.Series({'Other': other_sum})])"
   ]
  },
  {
   "cell_type": "markdown",
   "metadata": {
    "id": "4xWXkEVHbxcF"
   },
   "source": [
    "## 3. Trực quan hóa\n",
    "\n",
    "Lựa chọn biểu đồ tròn để biểu diễn tỷ lệ đóng góp. Vì có quá nhiều hãng hàng không, nên ta sẽ chỉ biểu diễn top 10 hãng hàng không có số hành khách lớn nhất."
   ]
  },
  {
   "cell_type": "code",
   "execution_count": 45,
   "metadata": {
    "colab": {
     "base_uri": "https://localhost:8080/",
     "height": 435
    },
    "id": "wE8ynGVfhE56",
    "outputId": "9dac2e8a-329c-47ac-daee-b688a20547ec"
   },
   "outputs": [
    {
     "data": {
      "image/png": "[encoded data removed]",
      "text/plain": [
       "<Figure size 640x480 with 1 Axes>"
      ]
     },
     "metadata": {},
     "output_type": "display_data"
    }
   ],
   "source": [
    "fig, ax = plt.subplots()\n",
    "ax.pie(final_series, labels = final_series.index, autopct = '%1.1f%%', startangle = 90)\n",
    "ax.axis('equal')\n",
    "\n",
    "plt.title('Top 10 hãng hàng không được sử dụng nhiều trong mùa dịch')\n",
    "plt.show()"
   ]
  },
  {
   "cell_type": "markdown",
   "metadata": {
    "id": "F5MmPBAcib6E"
   },
   "source": [
    "## 4. Kết luận\n",
    "\n",
    "Theo như biểu đồ tròn, ta có thể thấy:\n",
    "- Hãng hàng không Southwest Airlines Co. đảm nhiệm số lượng hành khách lớn nhất. Theo sau đó là American Airlines Inc, Delta Airlines Inc.\n",
    "- Từ tình hình dịch bệnh năm 2020, có thể nói dịch vụ và an ninh của các hãng trên rất tốt, nên mới tối thiểu hóa nguy cơ lây lan."
   ]
  }
 ],
 "metadata": {
  "colab": {
   "provenance": []
  },
  "kernelspec": {
   "display_name": "Python 3 (ipykernel)",
   "language": "python",
   "name": "python3"
  },
  "language_info": {
   "codemirror_mode": {
    "name": "ipython",
    "version": 3
   },
   "file_extension": ".py",
   "mimetype": "text/x-python",
   "name": "python",
   "nbconvert_exporter": "python",
   "pygments_lexer": "ipython3",
   "version": "3.10.9"
  }
 },
 "nbformat": 4,
 "nbformat_minor": 1
}
