{
 "cells": [
  {
   "cell_type": "markdown",
   "id": "50acd8f4-308a-4695-bbad-c9d9c54c520d",
   "metadata": {},
   "source": [
    "<div style=\"text-align: center; background-color: #0A6EBD; font-family: 'Trebuchet MS', Arial, sans-serif; color: white; padding: 20px; font-size: 40px; font-weight: bold; border-radius: 0 0 0 0; box-shadow: 0px 6px 8px rgba(0, 0, 0, 0.2);\">\n",
    "  Lab 1 - Data Visualization\n",
    "    <div style=\"text-align: center; background-color: #0A6EBD; font-family: 'Trebuchet MS', Arial, sans-serif; color: white; padding: 20px; font-size: 40px; font-weight: bold; border-radius: 0 0 0 0; box-shadow: 0px 6px 8px rgba(0, 0, 0, 0.2);\">\n",
    "    @ FIT-HCMUS, VNU-HCM 📌\n",
    "</div>"
   ]
  },
  {
   "cell_type": "markdown",
   "id": "5019ff3a-e1a1-443b-9b72-f61afe8b487d",
   "metadata": {},
   "source": [
    "<div style=\"text-align: center; background-color: #b1d1ff; font-family: 'Trebuchet MS', Arial, sans-serif; color: white; padding: 20px; font-size: 40px; font-weight: bold; border-radius: 0 0 0 0; box-shadow: 0px 6px 8px rgba(0, 0, 0, 0.2);\">\n",
    "  Visualization\n",
    "</div>"
   ]
  },
  {
   "cell_type": "code",
   "execution_count": 1,
   "id": "b7dd316b-0846-48c9-a432-0564a7634b5b",
   "metadata": {},
   "outputs": [],
   "source": [
    "import pandas as pd\n",
    "import numpy as np\n",
    "import matplotlib.pyplot as plt\n",
    "#!pip install squarify\n",
    "import squarify "
   ]
  },
  {
   "cell_type": "code",
   "execution_count": 2,
   "id": "7fdba2ce-7fd4-49b8-97d6-c39a756ca2ac",
   "metadata": {
    "scrolled": true
   },
   "outputs": [
    {
     "data": {
      "text/html": [
       "<div>\n",
       "<style scoped>\n",
       "    .dataframe tbody tr th:only-of-type {\n",
       "        vertical-align: middle;\n",
       "    }\n",
       "\n",
       "    .dataframe tbody tr th {\n",
       "        vertical-align: top;\n",
       "    }\n",
       "\n",
       "    .dataframe thead th {\n",
       "        text-align: right;\n",
       "    }\n",
       "</style>\n",
       "<table border=\"1\" class=\"dataframe\">\n",
       "  <thead>\n",
       "    <tr style=\"text-align: right;\">\n",
       "      <th></th>\n",
       "      <th>Age</th>\n",
       "      <th>Gender</th>\n",
       "      <th>Year In School</th>\n",
       "      <th>Major</th>\n",
       "      <th>Monthly Income</th>\n",
       "      <th>Financial Aid</th>\n",
       "      <th>Tuition</th>\n",
       "      <th>Housing</th>\n",
       "      <th>Food</th>\n",
       "      <th>Transportation</th>\n",
       "      <th>Books &amp; Supplies</th>\n",
       "      <th>Entertainment</th>\n",
       "      <th>Personal Care</th>\n",
       "      <th>Technology</th>\n",
       "      <th>Health &amp; Wellness</th>\n",
       "      <th>Miscellaneous</th>\n",
       "      <th>Preferred Payment Method</th>\n",
       "    </tr>\n",
       "  </thead>\n",
       "  <tbody>\n",
       "    <tr>\n",
       "      <th>269</th>\n",
       "      <td>23</td>\n",
       "      <td>Non-binary</td>\n",
       "      <td>Senior</td>\n",
       "      <td>Computer Science</td>\n",
       "      <td>1379</td>\n",
       "      <td>500</td>\n",
       "      <td>3665</td>\n",
       "      <td>946</td>\n",
       "      <td>114</td>\n",
       "      <td>143</td>\n",
       "      <td>211</td>\n",
       "      <td>92</td>\n",
       "      <td>20</td>\n",
       "      <td>83</td>\n",
       "      <td>113</td>\n",
       "      <td>110</td>\n",
       "      <td>Mobile Payment App</td>\n",
       "    </tr>\n",
       "    <tr>\n",
       "      <th>555</th>\n",
       "      <td>18</td>\n",
       "      <td>Male</td>\n",
       "      <td>Senior</td>\n",
       "      <td>Engineering</td>\n",
       "      <td>1245</td>\n",
       "      <td>80</td>\n",
       "      <td>3063</td>\n",
       "      <td>836</td>\n",
       "      <td>397</td>\n",
       "      <td>136</td>\n",
       "      <td>89</td>\n",
       "      <td>110</td>\n",
       "      <td>29</td>\n",
       "      <td>155</td>\n",
       "      <td>59</td>\n",
       "      <td>186</td>\n",
       "      <td>Mobile Payment App</td>\n",
       "    </tr>\n",
       "    <tr>\n",
       "      <th>101</th>\n",
       "      <td>23</td>\n",
       "      <td>Female</td>\n",
       "      <td>Senior</td>\n",
       "      <td>Psychology</td>\n",
       "      <td>1115</td>\n",
       "      <td>437</td>\n",
       "      <td>5317</td>\n",
       "      <td>818</td>\n",
       "      <td>341</td>\n",
       "      <td>136</td>\n",
       "      <td>116</td>\n",
       "      <td>115</td>\n",
       "      <td>22</td>\n",
       "      <td>56</td>\n",
       "      <td>38</td>\n",
       "      <td>106</td>\n",
       "      <td>Mobile Payment App</td>\n",
       "    </tr>\n",
       "    <tr>\n",
       "      <th>922</th>\n",
       "      <td>18</td>\n",
       "      <td>Male</td>\n",
       "      <td>Senior</td>\n",
       "      <td>Computer Science</td>\n",
       "      <td>1280</td>\n",
       "      <td>550</td>\n",
       "      <td>4843</td>\n",
       "      <td>500</td>\n",
       "      <td>112</td>\n",
       "      <td>99</td>\n",
       "      <td>119</td>\n",
       "      <td>67</td>\n",
       "      <td>70</td>\n",
       "      <td>141</td>\n",
       "      <td>97</td>\n",
       "      <td>109</td>\n",
       "      <td>Credit/Debit Card</td>\n",
       "    </tr>\n",
       "    <tr>\n",
       "      <th>189</th>\n",
       "      <td>22</td>\n",
       "      <td>Non-binary</td>\n",
       "      <td>Sophomore</td>\n",
       "      <td>Psychology</td>\n",
       "      <td>954</td>\n",
       "      <td>337</td>\n",
       "      <td>5756</td>\n",
       "      <td>717</td>\n",
       "      <td>159</td>\n",
       "      <td>195</td>\n",
       "      <td>196</td>\n",
       "      <td>138</td>\n",
       "      <td>26</td>\n",
       "      <td>154</td>\n",
       "      <td>160</td>\n",
       "      <td>85</td>\n",
       "      <td>Credit/Debit Card</td>\n",
       "    </tr>\n",
       "  </tbody>\n",
       "</table>\n",
       "</div>"
      ],
      "text/plain": [
       "     Age      Gender Year In School             Major  Monthly Income  \\\n",
       "269   23  Non-binary         Senior  Computer Science            1379   \n",
       "555   18        Male         Senior       Engineering            1245   \n",
       "101   23      Female         Senior        Psychology            1115   \n",
       "922   18        Male         Senior  Computer Science            1280   \n",
       "189   22  Non-binary      Sophomore        Psychology             954   \n",
       "\n",
       "     Financial Aid  Tuition  Housing  Food  Transportation  Books & Supplies  \\\n",
       "269            500     3665      946   114             143               211   \n",
       "555             80     3063      836   397             136                89   \n",
       "101            437     5317      818   341             136               116   \n",
       "922            550     4843      500   112              99               119   \n",
       "189            337     5756      717   159             195               196   \n",
       "\n",
       "     Entertainment  Personal Care  Technology  Health & Wellness  \\\n",
       "269             92             20          83                113   \n",
       "555            110             29         155                 59   \n",
       "101            115             22          56                 38   \n",
       "922             67             70         141                 97   \n",
       "189            138             26         154                160   \n",
       "\n",
       "     Miscellaneous Preferred Payment Method  \n",
       "269            110       Mobile Payment App  \n",
       "555            186       Mobile Payment App  \n",
       "101            106       Mobile Payment App  \n",
       "922            109        Credit/Debit Card  \n",
       "189             85        Credit/Debit Card  "
      ]
     },
     "execution_count": 2,
     "metadata": {},
     "output_type": "execute_result"
    }
   ],
   "source": [
    "data_df= pd.read_csv('../data/Processed.csv', index_col=False)\n",
    "data_df.sample(n=5)"
   ]
  },
  {
   "cell_type": "code",
   "execution_count": 3,
   "id": "c2a19123-4e1b-4194-b724-ba259d269a9a",
   "metadata": {},
   "outputs": [
    {
     "data": {
      "text/plain": [
       "(1000, 17)"
      ]
     },
     "execution_count": 3,
     "metadata": {},
     "output_type": "execute_result"
    }
   ],
   "source": [
    "n_rows=data_df.shape[0]\n",
    "n_cols=data_df.shape[1]\n",
    "n_rows, n_cols"
   ]
  },
  {
   "cell_type": "code",
   "execution_count": 4,
   "id": "97bd60ff-d144-47d8-b2ca-75440fa14310",
   "metadata": {},
   "outputs": [
    {
     "name": "stdout",
     "output_type": "stream",
     "text": [
      "<class 'pandas.core.frame.DataFrame'>\n",
      "RangeIndex: 1000 entries, 0 to 999\n",
      "Data columns (total 17 columns):\n",
      " #   Column                    Non-Null Count  Dtype \n",
      "---  ------                    --------------  ----- \n",
      " 0   Age                       1000 non-null   int64 \n",
      " 1   Gender                    1000 non-null   object\n",
      " 2   Year In School            1000 non-null   object\n",
      " 3   Major                     1000 non-null   object\n",
      " 4   Monthly Income            1000 non-null   int64 \n",
      " 5   Financial Aid             1000 non-null   int64 \n",
      " 6   Tuition                   1000 non-null   int64 \n",
      " 7   Housing                   1000 non-null   int64 \n",
      " 8   Food                      1000 non-null   int64 \n",
      " 9   Transportation            1000 non-null   int64 \n",
      " 10  Books & Supplies          1000 non-null   int64 \n",
      " 11  Entertainment             1000 non-null   int64 \n",
      " 12  Personal Care             1000 non-null   int64 \n",
      " 13  Technology                1000 non-null   int64 \n",
      " 14  Health & Wellness         1000 non-null   int64 \n",
      " 15  Miscellaneous             1000 non-null   int64 \n",
      " 16  Preferred Payment Method  1000 non-null   object\n",
      "dtypes: int64(13), object(4)\n",
      "memory usage: 132.9+ KB\n"
     ]
    }
   ],
   "source": [
    "data_df.info()"
   ]
  },
  {
   "cell_type": "markdown",
   "id": "fe63ebb6-fefa-4a10-bd53-9acc3aee6002",
   "metadata": {},
   "source": [
    "## Câu hỏi: Thành phần chi tiêu (trung bình) của sinh viên."
   ]
  },
  {
   "cell_type": "markdown",
   "id": "92a6d960-5afb-4bfd-9feb-df7740aca1e0",
   "metadata": {},
   "source": [
    "### 1. Mục đích"
   ]
  },
  {
   "cell_type": "markdown",
   "id": "61fe105d-5800-4ff4-9253-c904084e7c1b",
   "metadata": {},
   "source": [
    "- Nhằm biết được nhu cầu về tài chính và mức độ chi tiêu của sinh viên trong các hạng mục:\n",
    "    - Tiền nhà\n",
    "    - Tiền ăn uống\n",
    "    - Tiền đi lại\n",
    "    - Tiền sách/tài liệu học tập\n",
    "    - Tiền giải trí\n",
    "    - Tiền chăm sóc bản thân\n",
    "    - Tiền cho các đồ dùng công nghệ\n",
    "    - Tiền cho sức khỏe\n",
    "    - Các loại chi tiêu khác"
   ]
  },
  {
   "cell_type": "markdown",
   "id": "7e051746-3802-4ce4-b0c2-61d4e9ee7794",
   "metadata": {},
   "source": [
    "### 2. Phân tích"
   ]
  },
  {
   "cell_type": "code",
   "execution_count": 5,
   "id": "f3f6e0fd-6981-477a-bc04-f52f0383f828",
   "metadata": {},
   "outputs": [
    {
     "data": {
      "text/html": [
       "<div>\n",
       "<style scoped>\n",
       "    .dataframe tbody tr th:only-of-type {\n",
       "        vertical-align: middle;\n",
       "    }\n",
       "\n",
       "    .dataframe tbody tr th {\n",
       "        vertical-align: top;\n",
       "    }\n",
       "\n",
       "    .dataframe thead th {\n",
       "        text-align: right;\n",
       "    }\n",
       "</style>\n",
       "<table border=\"1\" class=\"dataframe\">\n",
       "  <thead>\n",
       "    <tr style=\"text-align: right;\">\n",
       "      <th></th>\n",
       "      <th>class</th>\n",
       "      <th>counts</th>\n",
       "    </tr>\n",
       "  </thead>\n",
       "  <tbody>\n",
       "    <tr>\n",
       "      <th>0</th>\n",
       "      <td>Personal Care</td>\n",
       "      <td>173.324626</td>\n",
       "    </tr>\n",
       "    <tr>\n",
       "      <th>1</th>\n",
       "      <td>Entertainment</td>\n",
       "      <td>193.598056</td>\n",
       "    </tr>\n",
       "    <tr>\n",
       "      <th>2</th>\n",
       "      <td>Miscellaneous</td>\n",
       "      <td>213.509028</td>\n",
       "    </tr>\n",
       "    <tr>\n",
       "      <th>3</th>\n",
       "      <td>Health &amp; Wellness</td>\n",
       "      <td>217.487693</td>\n",
       "    </tr>\n",
       "    <tr>\n",
       "      <th>4</th>\n",
       "      <td>Transportation</td>\n",
       "      <td>223.930624</td>\n",
       "    </tr>\n",
       "    <tr>\n",
       "      <th>5</th>\n",
       "      <td>Books &amp; Supplies</td>\n",
       "      <td>265.270690</td>\n",
       "    </tr>\n",
       "    <tr>\n",
       "      <th>6</th>\n",
       "      <td>Technology</td>\n",
       "      <td>266.631055</td>\n",
       "    </tr>\n",
       "    <tr>\n",
       "      <th>7</th>\n",
       "      <td>Food</td>\n",
       "      <td>324.948951</td>\n",
       "    </tr>\n",
       "    <tr>\n",
       "      <th>8</th>\n",
       "      <td>Housing</td>\n",
       "      <td>668.590577</td>\n",
       "    </tr>\n",
       "  </tbody>\n",
       "</table>\n",
       "</div>"
      ],
      "text/plain": [
       "               class      counts\n",
       "0      Personal Care  173.324626\n",
       "1      Entertainment  193.598056\n",
       "2      Miscellaneous  213.509028\n",
       "3  Health & Wellness  217.487693\n",
       "4     Transportation  223.930624\n",
       "5   Books & Supplies  265.270690\n",
       "6         Technology  266.631055\n",
       "7               Food  324.948951\n",
       "8            Housing  668.590577"
      ]
     },
     "execution_count": 5,
     "metadata": {},
     "output_type": "execute_result"
    }
   ],
   "source": [
    "# Prepare Necessary DataFrame\n",
    "df = data_df.describe().agg('mean').iloc[4:].sort_values(ascending=True).to_frame().reset_index()\n",
    "df.columns = ['class', 'counts']\n",
    "df"
   ]
  },
  {
   "cell_type": "code",
   "execution_count": 6,
   "id": "ef90674e-2e2e-456a-9037-bfda97b5afb8",
   "metadata": {},
   "outputs": [],
   "source": [
    "# Prepare Data For Plot\n",
    "labels = df.apply(lambda x: str(x[0]) + \"\\n (\" + str(int(x[1])) + \")\", axis=1)\n",
    "sizes = df['counts'].values.tolist()\n",
    "colors = [plt.cm.Spectral(i/float(len(labels))) for i in range(len(labels))]"
   ]
  },
  {
   "cell_type": "markdown",
   "id": "6e830f59-517d-4be5-be0c-c6a1e0a5e751",
   "metadata": {},
   "source": [
    "### 3. Trực quan hóa"
   ]
  },
  {
   "cell_type": "markdown",
   "id": "914247b8-ca9a-47e7-8e7f-0de5d1837331",
   "metadata": {},
   "source": [
    "- Vì cần phải thể hiện thành phần trong biểu đồ (Composition) nên ta chọn bản đồ cây (Treemap) để trực quan hóa.\n",
    "- Thay vì sử dụng biểu đồ hình tròn (Pie chart), ta sử dụng bản đồ cây vì nó dễ nhìn hơn khi có nhiều thành phần trong cùng một biểu đồ."
   ]
  },
  {
   "cell_type": "code",
   "execution_count": 7,
   "id": "3fafcc10-4d95-46fe-970c-dea55a9b03ac",
   "metadata": {},
   "outputs": [
    {
     "data": {
      "image/png": "[encoded data removed]",
      "text/plain": [
       "<Figure size 1600x800 with 1 Axes>"
      ]
     },
     "metadata": {},
     "output_type": "display_data"
    }
   ],
   "source": [
    "# Draw Plot\n",
    "plt.figure(figsize=(20,10), dpi= 80)\n",
    "squarify.plot(sizes=sizes, label=labels, color=colors, alpha=.8)\n",
    "\n",
    "# Decorate\n",
    "plt.title('Biểu đồ thành phần chi tiêu (trung bình) của sinh viên.')\n",
    "plt.axis('off')\n",
    "plt.savefig(\"Visualize - Bảo.svg\")"
   ]
  },
  {
   "cell_type": "markdown",
   "id": "bbaf219c-9fca-48de-88f9-6873c3491cc0",
   "metadata": {},
   "source": [
    "### 4. Kết luận"
   ]
  },
  {
   "cell_type": "markdown",
   "id": "745c0671-4a49-4721-ad17-59aa103c52a8",
   "metadata": {},
   "source": [
    "- Sinh viên cần chi tiêu cho tiền nhà với số tiền nhiều nhất.\n",
    "- Sinh viên chi tiêu cho các đồ dùng công nghệ nhiều bất thường.\n",
    "- Sinh viên có xu hướng ít chi tiêu cho chăm sóc bản thân."
   ]
  }
 ],
 "metadata": {
  "kernelspec": {
   "display_name": "Python 3 (ipykernel)",
   "language": "python",
   "name": "python3"
  },
  "language_info": {
   "codemirror_mode": {
    "name": "ipython",
    "version": 3
   },
   "file_extension": ".py",
   "mimetype": "text/x-python",
   "name": "python",
   "nbconvert_exporter": "python",
   "pygments_lexer": "ipython3",
   "version": "3.10.8"
  }
 },
 "nbformat": 4,
 "nbformat_minor": 5
}
