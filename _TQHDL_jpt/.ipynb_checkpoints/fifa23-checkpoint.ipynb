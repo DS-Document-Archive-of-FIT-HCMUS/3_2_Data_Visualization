{
 "cells": [
  {
   "cell_type": "code",
   "execution_count": 48,
   "metadata": {
    "_cell_guid": "b1076dfc-b9ad-4769-8c92-a6c4dae69d19",
    "_uuid": "8f2839f25d086af736a60e9eeb907d3b93b6e0e5",
    "execution": {
     "iopub.execute_input": "2024-05-21T10:57:50.866040Z",
     "iopub.status.busy": "2024-05-21T10:57:50.865575Z",
     "iopub.status.idle": "2024-05-21T10:57:50.884750Z",
     "shell.execute_reply": "2024-05-21T10:57:50.883534Z",
     "shell.execute_reply.started": "2024-05-21T10:57:50.866010Z"
    }
   },
   "outputs": [
    {
     "name": "stdout",
     "output_type": "stream",
     "text": [
      "/kaggle/input/fifa-23-complete-player-dataset/male_players (legacy).csv\n",
      "/kaggle/input/fifa-23-complete-player-dataset/female_coaches.csv\n",
      "/kaggle/input/fifa-23-complete-player-dataset/male_teams.csv\n",
      "/kaggle/input/fifa-23-complete-player-dataset/female_players.csv\n",
      "/kaggle/input/fifa-23-complete-player-dataset/male_players.csv\n",
      "/kaggle/input/fifa-23-complete-player-dataset/female_players (legacy).csv\n",
      "/kaggle/input/fifa-23-complete-player-dataset/female_teams.csv\n",
      "/kaggle/input/fifa-23-complete-player-dataset/male_coaches.csv\n"
     ]
    }
   ],
   "source": [
    "# This Python 3 environment comes with many helpful analytics libraries installed\n",
    "# It is defined by the kaggle/python Docker image: https://github.com/kaggle/docker-python\n",
    "# For example, here's several helpful packages to load\n",
    "\n",
    "import numpy as np # linear algebra\n",
    "import pandas as pd # data processing, CSV file I/O (e.g. pd.read_csv)\n",
    "\n",
    "# Input data files are available in the read-only \"../input/\" directory\n",
    "# For example, running this (by clicking run or pressing Shift+Enter) will list all files under the input directory\n",
    "\n",
    "import os\n",
    "for dirname, _, filenames in os.walk('/kaggle/input'):\n",
    "    for filename in filenames:\n",
    "        print(os.path.join(dirname, filename))\n",
    "\n",
    "# You can write up to 20GB to the current directory (/kaggle/working/) that gets preserved as output when you create a version using \"Save & Run All\" \n",
    "# You can also write temporary files to /kaggle/temp/, but they won't be saved outside of the current session"
   ]
  },
  {
   "cell_type": "code",
   "execution_count": 49,
   "metadata": {
    "execution": {
     "iopub.execute_input": "2024-05-21T10:57:50.889943Z",
     "iopub.status.busy": "2024-05-21T10:57:50.888378Z",
     "iopub.status.idle": "2024-05-21T10:57:54.959206Z",
     "shell.execute_reply": "2024-05-21T10:57:54.957726Z",
     "shell.execute_reply.started": "2024-05-21T10:57:50.889881Z"
    }
   },
   "outputs": [
    {
     "name": "stderr",
     "output_type": "stream",
     "text": [
      "/tmp/ipykernel_34/2997820509.py:1: DtypeWarning: Columns (108) have mixed types. Specify dtype option on import or set low_memory=False.\n",
      "  male_players = pd.read_csv(\"/kaggle/input/fifa-23-complete-player-dataset/male_players (legacy).csv\")\n"
     ]
    }
   ],
   "source": [
    "male_players = pd.read_csv(\"/kaggle/input/fifa-23-complete-player-dataset/male_players (legacy).csv\")\n",
    "female_players = pd.read_csv(\"/kaggle/input/fifa-23-complete-player-dataset/female_players (legacy).csv\")"
   ]
  },
  {
   "cell_type": "code",
   "execution_count": 50,
   "metadata": {
    "execution": {
     "iopub.execute_input": "2024-05-21T10:57:54.961449Z",
     "iopub.status.busy": "2024-05-21T10:57:54.961068Z",
     "iopub.status.idle": "2024-05-21T10:57:54.967877Z",
     "shell.execute_reply": "2024-05-21T10:57:54.965971Z",
     "shell.execute_reply.started": "2024-05-21T10:57:54.961404Z"
    }
   },
   "outputs": [],
   "source": [
    "import matplotlib.pyplot as plt\n",
    "import statsmodels.formula.api as smf"
   ]
  },
  {
   "cell_type": "markdown",
   "metadata": {},
   "source": [
    "## Có sự khác biệt giữa chỉ số tiềm năng (potential) giữa cầu thủ nam và cầu thủ nữ hay không?"
   ]
  },
  {
   "cell_type": "code",
   "execution_count": 51,
   "metadata": {
    "execution": {
     "iopub.execute_input": "2024-05-21T10:57:54.972306Z",
     "iopub.status.busy": "2024-05-21T10:57:54.971757Z",
     "iopub.status.idle": "2024-05-21T10:57:54.983891Z",
     "shell.execute_reply": "2024-05-21T10:57:54.982169Z",
     "shell.execute_reply.started": "2024-05-21T10:57:54.972270Z"
    }
   },
   "outputs": [],
   "source": [
    "male_potential = male_players[\"potential\"]\n",
    "female_potential = female_players[\"potential\"]"
   ]
  },
  {
   "cell_type": "markdown",
   "metadata": {},
   "source": [
    "### Trực quan hóa để trả lời"
   ]
  },
  {
   "cell_type": "code",
   "execution_count": 52,
   "metadata": {
    "execution": {
     "iopub.execute_input": "2024-05-21T10:57:54.985959Z",
     "iopub.status.busy": "2024-05-21T10:57:54.985416Z",
     "iopub.status.idle": "2024-05-21T10:57:55.228492Z",
     "shell.execute_reply": "2024-05-21T10:57:55.227154Z",
     "shell.execute_reply.started": "2024-05-21T10:57:54.985924Z"
    }
   },
   "outputs": [
    {
     "data": {
      "image/png": "[encoded data removed]",
      "text/plain": [
       "<Figure size 640x480 with 1 Axes>"
      ]
     },
     "metadata": {},
     "output_type": "display_data"
    }
   ],
   "source": [
    "x = [\"Cầu thủ nam\", \"Cầu thủ nữ\"]\n",
    "y = []\n",
    "y.append(male_potential.mean())\n",
    "y.append(female_potential.mean())\n",
    "\n",
    "plt.bar(x, y);\n",
    "plt.xlabel(\"Giới tính\");\n",
    "plt.ylabel(\"Chỉ số tiềm năng\");"
   ]
  },
  {
   "cell_type": "markdown",
   "metadata": {},
   "source": [
    "__Qua biểu đồ ta có thể thấy rằng, sự chênh lệch về chỉ số tiềm năng giữa cầu thủ nam và cầu thủ nữ là không đáng kể.__"
   ]
  },
  {
   "cell_type": "markdown",
   "metadata": {},
   "source": [
    "### Sử dụng thống kê"
   ]
  },
  {
   "cell_type": "code",
   "execution_count": 53,
   "metadata": {
    "execution": {
     "iopub.execute_input": "2024-05-21T10:57:55.230503Z",
     "iopub.status.busy": "2024-05-21T10:57:55.229977Z",
     "iopub.status.idle": "2024-05-21T10:57:55.245259Z",
     "shell.execute_reply": "2024-05-21T10:57:55.243768Z",
     "shell.execute_reply.started": "2024-05-21T10:57:55.230431Z"
    }
   },
   "outputs": [],
   "source": [
    "df_male = pd.DataFrame({\"potential\": male_potential})\n",
    "df_female = pd.DataFrame({\"potential\": female_potential})\n",
    "df_male[\"gender\"] = \"male\"\n",
    "df_female[\"gender\"] = \"female\"\n",
    "df = pd.concat([df_male, df_female], ignore_index=True)"
   ]
  },
  {
   "cell_type": "code",
   "execution_count": 54,
   "metadata": {
    "execution": {
     "iopub.execute_input": "2024-05-21T10:57:55.247876Z",
     "iopub.status.busy": "2024-05-21T10:57:55.247357Z",
     "iopub.status.idle": "2024-05-21T10:57:56.161523Z",
     "shell.execute_reply": "2024-05-21T10:57:56.160188Z",
     "shell.execute_reply.started": "2024-05-21T10:57:55.247834Z"
    }
   },
   "outputs": [
    {
     "name": "stdout",
     "output_type": "stream",
     "text": [
      "                            OLS Regression Results                            \n",
      "==============================================================================\n",
      "Dep. Variable:              potential   R-squared:                       0.037\n",
      "Model:                            OLS   Adj. R-squared:                  0.037\n",
      "Method:                 Least Squares   F-statistic:                     6255.\n",
      "Date:                Tue, 21 May 2024   Prob (F-statistic):               0.00\n",
      "Time:                        10:57:56   Log-Likelihood:            -5.3565e+05\n",
      "No. Observations:              164779   AIC:                         1.071e+06\n",
      "Df Residuals:                  164777   BIC:                         1.071e+06\n",
      "Df Model:                           1                                         \n",
      "Covariance Type:            nonrobust                                         \n",
      "==================================================================================\n",
      "                     coef    std err          t      P>|t|      [0.025      0.975]\n",
      "----------------------------------------------------------------------------------\n",
      "Intercept         79.5663      0.110    720.284      0.000      79.350      79.783\n",
      "gender[T.male]    -8.8223      0.112    -79.087      0.000      -9.041      -8.604\n",
      "==============================================================================\n",
      "Omnibus:                      776.470   Durbin-Watson:                   0.558\n",
      "Prob(Omnibus):                  0.000   Jarque-Bera (JB):              788.708\n",
      "Skew:                           0.166   Prob(JB):                    5.42e-172\n",
      "Kurtosis:                       3.070   Cond. No.                         14.3\n",
      "==============================================================================\n",
      "\n",
      "Notes:\n",
      "[1] Standard Errors assume that the covariance matrix of the errors is correctly specified.\n"
     ]
    }
   ],
   "source": [
    "model = smf.ols('potential ~ gender', data=df)\n",
    "results = model.fit()\n",
    "#table = sm.stats.anova_lm(results, typ=2)\n",
    "print(results.summary())"
   ]
  },
  {
   "cell_type": "markdown",
   "metadata": {},
   "source": [
    "__Từ bảng phân tích có: hệ số gender[T.male] là -8.8223 với giá trị p là 0.000 (p > t), cho thấy rằng không có sự khác biệt có ý nghĩa thống kê giữa giá trị trung bình của potential cho cầu thủ nam và cầu thủ nữ__"
   ]
  },
  {
   "cell_type": "markdown",
   "metadata": {},
   "source": [
    "## Có sự khác biệt giữa độ tuổi trung bình của cầu thủ nam so với cầu thủ nữ không?"
   ]
  },
  {
   "cell_type": "code",
   "execution_count": 55,
   "metadata": {
    "execution": {
     "iopub.execute_input": "2024-05-21T10:57:56.164174Z",
     "iopub.status.busy": "2024-05-21T10:57:56.163404Z",
     "iopub.status.idle": "2024-05-21T10:57:56.170720Z",
     "shell.execute_reply": "2024-05-21T10:57:56.169416Z",
     "shell.execute_reply.started": "2024-05-21T10:57:56.164130Z"
    }
   },
   "outputs": [],
   "source": [
    "male_age = male_players[\"age\"]\n",
    "female_age = female_players[\"age\"]"
   ]
  },
  {
   "cell_type": "markdown",
   "metadata": {},
   "source": [
    "### Trực quan hóa để trả lời"
   ]
  },
  {
   "cell_type": "code",
   "execution_count": 56,
   "metadata": {
    "execution": {
     "iopub.execute_input": "2024-05-21T10:57:56.173720Z",
     "iopub.status.busy": "2024-05-21T10:57:56.172895Z",
     "iopub.status.idle": "2024-05-21T10:57:56.393559Z",
     "shell.execute_reply": "2024-05-21T10:57:56.392328Z",
     "shell.execute_reply.started": "2024-05-21T10:57:56.173673Z"
    }
   },
   "outputs": [
    {
     "data": {
      "image/png": "[encoded data removed]",
      "text/plain": [
       "<Figure size 640x480 with 1 Axes>"
      ]
     },
     "metadata": {},
     "output_type": "display_data"
    }
   ],
   "source": [
    "x = [\"Cầu thủ nam\", \"Cầu thủ nữ\"]\n",
    "y = []\n",
    "y.append(male_age.mean())\n",
    "y.append(female_age.mean())\n",
    "\n",
    "plt.bar(x, y);\n",
    "plt.xlabel(\"Giới tính\");\n",
    "plt.ylabel(\"Độ tuổi trung bình\");"
   ]
  },
  {
   "cell_type": "markdown",
   "metadata": {},
   "source": [
    "__Từ biểu đồ có thể thấy không có sự khác biệt nhiều giữ độ tuổi trung bình của cầu thủ nam và cầu thủ nữ__"
   ]
  },
  {
   "cell_type": "markdown",
   "metadata": {},
   "source": [
    "### Sử dụng thống kê"
   ]
  },
  {
   "cell_type": "code",
   "execution_count": 57,
   "metadata": {
    "execution": {
     "iopub.execute_input": "2024-05-21T10:57:56.398176Z",
     "iopub.status.busy": "2024-05-21T10:57:56.397541Z",
     "iopub.status.idle": "2024-05-21T10:57:56.411217Z",
     "shell.execute_reply": "2024-05-21T10:57:56.409559Z",
     "shell.execute_reply.started": "2024-05-21T10:57:56.398135Z"
    }
   },
   "outputs": [],
   "source": [
    "df_male = pd.DataFrame({\"age\": male_age})\n",
    "df_female = pd.DataFrame({\"age\": female_age})\n",
    "df_male[\"gender\"] = \"male\"\n",
    "df_female[\"gender\"] = \"female\"\n",
    "df = pd.concat([df_male, df_female], ignore_index=True)"
   ]
  },
  {
   "cell_type": "code",
   "execution_count": 58,
   "metadata": {
    "execution": {
     "iopub.execute_input": "2024-05-21T10:57:56.413661Z",
     "iopub.status.busy": "2024-05-21T10:57:56.413096Z",
     "iopub.status.idle": "2024-05-21T10:57:57.351419Z",
     "shell.execute_reply": "2024-05-21T10:57:57.349303Z",
     "shell.execute_reply.started": "2024-05-21T10:57:56.413614Z"
    }
   },
   "outputs": [
    {
     "name": "stdout",
     "output_type": "stream",
     "text": [
      "                            OLS Regression Results                            \n",
      "==============================================================================\n",
      "Dep. Variable:                    age   R-squared:                       0.001\n",
      "Model:                            OLS   Adj. R-squared:                  0.001\n",
      "Method:                 Least Squares   F-statistic:                     168.9\n",
      "Date:                Tue, 21 May 2024   Prob (F-statistic):           1.31e-38\n",
      "Time:                        10:57:57   Log-Likelihood:            -4.8738e+05\n",
      "No. Observations:              164779   AIC:                         9.748e+05\n",
      "Df Residuals:                  164777   BIC:                         9.748e+05\n",
      "Df Model:                           1                                         \n",
      "Covariance Type:            nonrobust                                         \n",
      "==================================================================================\n",
      "                     coef    std err          t      P>|t|      [0.025      0.975]\n",
      "----------------------------------------------------------------------------------\n",
      "Intercept         26.2049      0.082    317.965      0.000      26.043      26.366\n",
      "gender[T.male]    -1.0818      0.083    -12.998      0.000      -1.245      -0.919\n",
      "==============================================================================\n",
      "Omnibus:                     6522.050   Durbin-Watson:                   0.667\n",
      "Prob(Omnibus):                  0.000   Jarque-Bera (JB):             5998.687\n",
      "Skew:                           0.414   Prob(JB):                         0.00\n",
      "Kurtosis:                       2.565   Cond. No.                         14.3\n",
      "==============================================================================\n",
      "\n",
      "Notes:\n",
      "[1] Standard Errors assume that the covariance matrix of the errors is correctly specified.\n"
     ]
    }
   ],
   "source": [
    "model = smf.ols('age ~ gender', data=df)\n",
    "results = model.fit()\n",
    "print(results.summary())"
   ]
  },
  {
   "cell_type": "markdown",
   "metadata": {},
   "source": [
    "__Từ bảng phân tích có: hệ số gender[T.male] là -1.0818 với giá trị p là 0.000 (p > t), cho thấy rằng không có sự khác biệt có ý nghĩa thống kê giữa độ tuổi trung bình của cầu thủ nam và cầu thủ nữ__"
   ]
  }
 ],
 "metadata": {
  "kaggle": {
   "accelerator": "none",
   "dataSources": [
    {
     "datasetId": 2850202,
     "sourceId": 4914645,
     "sourceType": "datasetVersion"
    }
   ],
   "dockerImageVersionId": 30698,
   "isGpuEnabled": false,
   "isInternetEnabled": false,
   "language": "python",
   "sourceType": "notebook"
  },
  "kernelspec": {
   "display_name": "Python 3 (ipykernel)",
   "language": "python",
   "name": "python3"
  },
  "language_info": {
   "codemirror_mode": {
    "name": "ipython",
    "version": 3
   },
   "file_extension": ".py",
   "mimetype": "text/x-python",
   "name": "python",
   "nbconvert_exporter": "python",
   "pygments_lexer": "ipython3",
   "version": "3.9.18"
  }
 },
 "nbformat": 4,
 "nbformat_minor": 4
}
